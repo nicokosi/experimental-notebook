{
 "cells": [
  {
   "cell_type": "markdown",
   "metadata": {},
   "source": [
    "# Fréquentation gares SNCF\n",
    "\n",
    "Sources :\n",
    "* dataset : https://www.data.gouv.fr/en/datasets/frequentation-en-gares/\n",
    "* CSV : https://www.data.gouv.fr/en/datasets/r/d4cf16d5-dd91-453c-887e-6084639caac8"
   ]
  },
  {
   "cell_type": "code",
   "execution_count": 2,
   "metadata": {
    "collapsed": true,
    "jupyter": {
     "outputs_hidden": true
    }
   },
   "outputs": [
    {
     "name": "stdout",
     "output_type": "stream",
     "text": [
      "--2020-12-09 07:47:12--  https://www.data.gouv.fr/en/datasets/r/d4cf16d5-dd91-453c-887e-6084639caac8\n",
      "Resolving www.data.gouv.fr (www.data.gouv.fr)... 37.59.183.93\n",
      "Connecting to www.data.gouv.fr (www.data.gouv.fr)|37.59.183.93|:443... connected.\n",
      "HTTP request sent, awaiting response... 302 FOUND\n",
      "Location: https://ressources.data.sncf.com/explore/dataset/frequentation-gares/download?format=csv&timezone=Europe/Berlin&use_labels_for_header=false [following]\n",
      "--2020-12-09 07:47:12--  https://ressources.data.sncf.com/explore/dataset/frequentation-gares/download?format=csv&timezone=Europe/Berlin&use_labels_for_header=false\n",
      "Resolving ressources.data.sncf.com (ressources.data.sncf.com)... 34.248.20.69, 34.249.199.226\n",
      "Connecting to ressources.data.sncf.com (ressources.data.sncf.com)|34.248.20.69|:443... connected.\n",
      "HTTP request sent, awaiting response... 200 OK\n",
      "Length: unspecified [application/csv]\n",
      "Saving to: ‘frequentation_gares_SNCF.csv’\n",
      "\n",
      "frequentation_gares     [    <=>             ] 273.69K   291KB/s    in 0.9s    \n",
      "\n",
      "2020-12-09 07:47:14 (291 KB/s) - ‘frequentation_gares_SNCF.csv’ saved [280255]\n",
      "\n"
     ]
    }
   ],
   "source": [
    "!wget --output-document=frequentation_gares_SNCF.csv https://www.data.gouv.fr/en/datasets/r/d4cf16d5-dd91-453c-887e-6084639caac8\n"
   ]
  },
  {
   "cell_type": "code",
   "execution_count": 4,
   "metadata": {},
   "outputs": [
    {
     "name": "stdout",
     "output_type": "stream",
     "text": [
      "Collecting package metadata (current_repodata.json): ...working... done\n",
      "Solving environment: ...working... done\n",
      "\n",
      "# All requested packages already installed.\n",
      "\n"
     ]
    },
    {
     "data": {
      "text/html": [
       "<div>\n",
       "<style scoped>\n",
       "    .dataframe tbody tr th:only-of-type {\n",
       "        vertical-align: middle;\n",
       "    }\n",
       "\n",
       "    .dataframe tbody tr th {\n",
       "        vertical-align: top;\n",
       "    }\n",
       "\n",
       "    .dataframe thead th {\n",
       "        text-align: right;\n",
       "    }\n",
       "</style>\n",
       "<table border=\"1\" class=\"dataframe\">\n",
       "  <thead>\n",
       "    <tr style=\"text-align: right;\">\n",
       "      <th></th>\n",
       "      <th>nom_gare;code_uic_complet;code_postal;segmentation_drg_2018;total_voyageurs_2019;total_voyageurs_non_voyageurs_2019;total_voyageurs_2018;total_voyageurs_non_voyageurs_2018;totalvoyageurs2017;total_voyageurs_non_voyageurs_2017;total_voyageurs_2016;total_voyageurs_non_voyageurs_2016;total_voyageurs_2015;total_voyageurs_non_voyageurs_2015</th>\n",
       "    </tr>\n",
       "  </thead>\n",
       "  <tbody>\n",
       "    <tr>\n",
       "      <th>0</th>\n",
       "      <td>Ablon;87545269;94480;b;1457253;1457253;1462108...</td>\n",
       "    </tr>\n",
       "    <tr>\n",
       "      <th>1</th>\n",
       "      <td>Agonac;87595157;24460;c;2538;2538;1492;1492;15...</td>\n",
       "    </tr>\n",
       "    <tr>\n",
       "      <th>2</th>\n",
       "      <td>Aigues-Mortes;87775858;30220;c;6146;6146;5311;...</td>\n",
       "    </tr>\n",
       "    <tr>\n",
       "      <th>3</th>\n",
       "      <td>Aiguillon;87586693;47190;c;109094;109094;92690...</td>\n",
       "    </tr>\n",
       "    <tr>\n",
       "      <th>4</th>\n",
       "      <td>Aix-en-Provence TGV;87319012;13592;a;3594151;5...</td>\n",
       "    </tr>\n",
       "  </tbody>\n",
       "</table>\n",
       "</div>"
      ],
      "text/plain": [
       "  nom_gare;code_uic_complet;code_postal;segmentation_drg_2018;total_voyageurs_2019;total_voyageurs_non_voyageurs_2019;total_voyageurs_2018;total_voyageurs_non_voyageurs_2018;totalvoyageurs2017;total_voyageurs_non_voyageurs_2017;total_voyageurs_2016;total_voyageurs_non_voyageurs_2016;total_voyageurs_2015;total_voyageurs_non_voyageurs_2015\n",
       "0  Ablon;87545269;94480;b;1457253;1457253;1462108...                                                                                                                                                                                                                                                                                               \n",
       "1  Agonac;87595157;24460;c;2538;2538;1492;1492;15...                                                                                                                                                                                                                                                                                               \n",
       "2  Aigues-Mortes;87775858;30220;c;6146;6146;5311;...                                                                                                                                                                                                                                                                                               \n",
       "3  Aiguillon;87586693;47190;c;109094;109094;92690...                                                                                                                                                                                                                                                                                               \n",
       "4  Aix-en-Provence TGV;87319012;13592;a;3594151;5...                                                                                                                                                                                                                                                                                               "
      ]
     },
     "execution_count": 4,
     "metadata": {},
     "output_type": "execute_result"
    }
   ],
   "source": [
    "!conda install pandas --yes --quiet\n",
    "\n",
    "import pandas as pd\n",
    "df = pd.read_csv(\"./frequentation_gares_SNCF.csv\")\n",
    "\n",
    "df.head()"
   ]
  }
 ],
 "metadata": {
  "kernelspec": {
   "display_name": "Python 3",
   "language": "python",
   "name": "python3"
  },
  "language_info": {
   "codemirror_mode": {
    "name": "ipython",
    "version": 3
   },
   "file_extension": ".py",
   "mimetype": "text/x-python",
   "name": "python",
   "nbconvert_exporter": "python",
   "pygments_lexer": "ipython3",
   "version": "3.7.1"
  }
 },
 "nbformat": 4,
 "nbformat_minor": 4
}
