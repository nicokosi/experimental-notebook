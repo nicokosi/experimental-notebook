{
 "cells": [
  {
   "cell_type": "markdown",
   "metadata": {},
   "source": [
    "# Fréquentation gares SNCF\n",
    "\n",
    "Sources :\n",
    "* dataset : https://www.data.gouv.fr/en/datasets/frequentation-en-gares/\n",
    "* CSV : https://www.data.gouv.fr/en/datasets/r/d4cf16d5-dd91-453c-887e-6084639caac8"
   ]
  },
  {
   "cell_type": "code",
   "execution_count": 2,
   "metadata": {
    "collapsed": true,
    "jupyter": {
     "outputs_hidden": true
    }
   },
   "outputs": [
    {
     "name": "stdout",
     "output_type": "stream",
     "text": [
      "--2020-12-09 07:47:12--  https://www.data.gouv.fr/en/datasets/r/d4cf16d5-dd91-453c-887e-6084639caac8\n",
      "Resolving www.data.gouv.fr (www.data.gouv.fr)... 37.59.183.93\n",
      "Connecting to www.data.gouv.fr (www.data.gouv.fr)|37.59.183.93|:443... connected.\n",
      "HTTP request sent, awaiting response... 302 FOUND\n",
      "Location: https://ressources.data.sncf.com/explore/dataset/frequentation-gares/download?format=csv&timezone=Europe/Berlin&use_labels_for_header=false [following]\n",
      "--2020-12-09 07:47:12--  https://ressources.data.sncf.com/explore/dataset/frequentation-gares/download?format=csv&timezone=Europe/Berlin&use_labels_for_header=false\n",
      "Resolving ressources.data.sncf.com (ressources.data.sncf.com)... 34.248.20.69, 34.249.199.226\n",
      "Connecting to ressources.data.sncf.com (ressources.data.sncf.com)|34.248.20.69|:443... connected.\n",
      "HTTP request sent, awaiting response... 200 OK\n",
      "Length: unspecified [application/csv]\n",
      "Saving to: ‘frequentation_gares_SNCF.csv’\n",
      "\n",
      "frequentation_gares     [    <=>             ] 273.69K   291KB/s    in 0.9s    \n",
      "\n",
      "2020-12-09 07:47:14 (291 KB/s) - ‘frequentation_gares_SNCF.csv’ saved [280255]\n",
      "\n"
     ]
    }
   ],
   "source": [
    "!wget --output-document=frequentation_gares_SNCF.csv https://www.data.gouv.fr/en/datasets/r/d4cf16d5-dd91-453c-887e-6084639caac8\n",
    "!conda install pandas --yes --quiet"
   ]
  },
  {
   "cell_type": "code",
   "execution_count": 29,
   "metadata": {},
   "outputs": [
    {
     "data": {
      "text/html": [
       "<div>\n",
       "<style scoped>\n",
       "    .dataframe tbody tr th:only-of-type {\n",
       "        vertical-align: middle;\n",
       "    }\n",
       "\n",
       "    .dataframe tbody tr th {\n",
       "        vertical-align: top;\n",
       "    }\n",
       "\n",
       "    .dataframe thead th {\n",
       "        text-align: right;\n",
       "    }\n",
       "</style>\n",
       "<table border=\"1\" class=\"dataframe\">\n",
       "  <thead>\n",
       "    <tr style=\"text-align: right;\">\n",
       "      <th></th>\n",
       "      <th>nom_gare</th>\n",
       "      <th>total_voyageurs_2019</th>\n",
       "    </tr>\n",
       "  </thead>\n",
       "  <tbody>\n",
       "    <tr>\n",
       "      <th>0</th>\n",
       "      <td>Ablon</td>\n",
       "      <td>1457253</td>\n",
       "    </tr>\n",
       "    <tr>\n",
       "      <th>1</th>\n",
       "      <td>Agonac</td>\n",
       "      <td>2538</td>\n",
       "    </tr>\n",
       "    <tr>\n",
       "      <th>2</th>\n",
       "      <td>Aigues-Mortes</td>\n",
       "      <td>6146</td>\n",
       "    </tr>\n",
       "    <tr>\n",
       "      <th>3</th>\n",
       "      <td>Aiguillon</td>\n",
       "      <td>109094</td>\n",
       "    </tr>\n",
       "    <tr>\n",
       "      <th>4</th>\n",
       "      <td>Aix-en-Provence TGV</td>\n",
       "      <td>3594151</td>\n",
       "    </tr>\n",
       "    <tr>\n",
       "      <th>5</th>\n",
       "      <td>Alès</td>\n",
       "      <td>433827</td>\n",
       "    </tr>\n",
       "    <tr>\n",
       "      <th>6</th>\n",
       "      <td>Allée de la Tour Rendez-Vous</td>\n",
       "      <td>630008</td>\n",
       "    </tr>\n",
       "    <tr>\n",
       "      <th>7</th>\n",
       "      <td>Altkirch</td>\n",
       "      <td>322676</td>\n",
       "    </tr>\n",
       "    <tr>\n",
       "      <th>8</th>\n",
       "      <td>Ambazac</td>\n",
       "      <td>27893</td>\n",
       "    </tr>\n",
       "    <tr>\n",
       "      <th>9</th>\n",
       "      <td>Anchamps</td>\n",
       "      <td>7376</td>\n",
       "    </tr>\n",
       "  </tbody>\n",
       "</table>\n",
       "</div>"
      ],
      "text/plain": [
       "                       nom_gare  total_voyageurs_2019\n",
       "0                         Ablon               1457253\n",
       "1                        Agonac                  2538\n",
       "2                 Aigues-Mortes                  6146\n",
       "3                     Aiguillon                109094\n",
       "4           Aix-en-Provence TGV               3594151\n",
       "5                          Alès                433827\n",
       "6  Allée de la Tour Rendez-Vous                630008\n",
       "7                      Altkirch                322676\n",
       "8                       Ambazac                 27893\n",
       "9                      Anchamps                  7376"
      ]
     },
     "execution_count": 29,
     "metadata": {},
     "output_type": "execute_result"
    }
   ],
   "source": [
    "import pandas as pd\n",
    "df = pd.read_csv(\n",
    "    filepath_or_buffer=\"./frequentation_gares_SNCF.csv\",\n",
    "    sep=\";\")\n",
    "df = pd.DataFrame(df, columns=['nom_gare', 'total_voyageurs_2019'])\n",
    "df.head(10)\n",
    "#df.plot.scatter(x='nom_gare', y='total_voyageurs_2019');\n",
    "\n"
   ]
  },
  {
   "cell_type": "code",
   "execution_count": null,
   "metadata": {},
   "outputs": [],
   "source": []
  }
 ],
 "metadata": {
  "kernelspec": {
   "display_name": "Python 3",
   "language": "python",
   "name": "python3"
  },
  "language_info": {
   "codemirror_mode": {
    "name": "ipython",
    "version": 3
   },
   "file_extension": ".py",
   "mimetype": "text/x-python",
   "name": "python",
   "nbconvert_exporter": "python",
   "pygments_lexer": "ipython3",
   "version": "3.7.1"
  }
 },
 "nbformat": 4,
 "nbformat_minor": 4
}
